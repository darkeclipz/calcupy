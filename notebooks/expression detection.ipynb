{
 "cells": [
  {
   "cell_type": "code",
   "execution_count": 4,
   "metadata": {},
   "outputs": [
    {
     "name": "stdout",
     "output_type": "stream",
     "text": [
      "Populating the interactive namespace from numpy and matplotlib\n"
     ]
    }
   ],
   "source": [
    "%pylab inline\n",
    "from sympy import symbols, Matrix\n",
    "from sympy.parsing.sympy_parser import parse_expr"
   ]
  },
  {
   "cell_type": "code",
   "execution_count": 3,
   "metadata": {},
   "outputs": [
    {
     "data": {
      "text/plain": [
       "x*y"
      ]
     },
     "execution_count": 3,
     "metadata": {},
     "output_type": "execute_result"
    }
   ],
   "source": [
    "expr = parse_expr(\"x*y\")\n",
    "expr"
   ]
  },
  {
   "cell_type": "code",
   "execution_count": 4,
   "metadata": {},
   "outputs": [
    {
     "data": {
      "text/plain": [
       "sympy.core.mul.Mul"
      ]
     },
     "execution_count": 4,
     "metadata": {},
     "output_type": "execute_result"
    }
   ],
   "source": [
    "type(expr)"
   ]
  },
  {
   "cell_type": "code",
   "execution_count": 5,
   "metadata": {},
   "outputs": [
    {
     "data": {
      "text/plain": [
       "sympy.matrices.dense.MutableDenseMatrix"
      ]
     },
     "execution_count": 5,
     "metadata": {},
     "output_type": "execute_result"
    }
   ],
   "source": [
    "type(parse_expr(\"Matrix([[1,2],[3,4]]) * t\"))"
   ]
  },
  {
   "cell_type": "code",
   "execution_count": 6,
   "metadata": {},
   "outputs": [
    {
     "data": {
      "text/plain": [
       "cos"
      ]
     },
     "execution_count": 6,
     "metadata": {},
     "output_type": "execute_result"
    }
   ],
   "source": [
    "type(parse_expr(\"cos(x)\"))"
   ]
  },
  {
   "cell_type": "code",
   "execution_count": 7,
   "metadata": {},
   "outputs": [
    {
     "data": {
      "text/plain": [
       "sympy.core.relational.Equality"
      ]
     },
     "execution_count": 7,
     "metadata": {},
     "output_type": "execute_result"
    }
   ],
   "source": [
    "type(parse_expr(\"Eq(10,a)\"))"
   ]
  },
  {
   "cell_type": "code",
   "execution_count": 8,
   "metadata": {},
   "outputs": [
    {
     "data": {
      "text/plain": [
       "sympy.core.relational.StrictGreaterThan"
      ]
     },
     "execution_count": 8,
     "metadata": {},
     "output_type": "execute_result"
    }
   ],
   "source": [
    "type(parse_expr(\"10>a\"))"
   ]
  },
  {
   "cell_type": "code",
   "execution_count": 9,
   "metadata": {},
   "outputs": [
    {
     "data": {
      "text/plain": [
       "sympy.core.relational.GreaterThan"
      ]
     },
     "execution_count": 9,
     "metadata": {},
     "output_type": "execute_result"
    }
   ],
   "source": [
    "type(parse_expr(\"10>=a\"))"
   ]
  },
  {
   "cell_type": "code",
   "execution_count": 10,
   "metadata": {},
   "outputs": [
    {
     "data": {
      "text/plain": [
       "sympy.core.relational.StrictLessThan"
      ]
     },
     "execution_count": 10,
     "metadata": {},
     "output_type": "execute_result"
    }
   ],
   "source": [
    "type(parse_expr(\"10<a\"))"
   ]
  },
  {
   "cell_type": "code",
   "execution_count": 11,
   "metadata": {},
   "outputs": [
    {
     "data": {
      "text/plain": [
       "sympy.core.relational.LessThan"
      ]
     },
     "execution_count": 11,
     "metadata": {},
     "output_type": "execute_result"
    }
   ],
   "source": [
    "type(parse_expr(\"10<=a\"))"
   ]
  },
  {
   "cell_type": "code",
   "execution_count": 14,
   "metadata": {},
   "outputs": [
    {
     "data": {
      "text/plain": [
       "sympy.core.relational.Equality"
      ]
     },
     "execution_count": 14,
     "metadata": {},
     "output_type": "execute_result"
    }
   ],
   "source": [
    "type(parse_expr(\"Eq(x^2 + x, x)\"))"
   ]
  },
  {
   "cell_type": "code",
   "execution_count": 15,
   "metadata": {},
   "outputs": [
    {
     "data": {
      "text/plain": [
       "sympy.core.numbers.Integer"
      ]
     },
     "execution_count": 15,
     "metadata": {},
     "output_type": "execute_result"
    }
   ],
   "source": [
    "type(parse_expr(\"10!\"))"
   ]
  },
  {
   "cell_type": "code",
   "execution_count": 17,
   "metadata": {},
   "outputs": [
    {
     "data": {
      "text/plain": [
       "sympy.core.mul.Mul"
      ]
     },
     "execution_count": 17,
     "metadata": {},
     "output_type": "execute_result"
    }
   ],
   "source": [
    "type(parse_expr(\"2*pi\"))"
   ]
  },
  {
   "cell_type": "code",
   "execution_count": 19,
   "metadata": {},
   "outputs": [
    {
     "data": {
      "text/plain": [
       "sympy.core.numbers.Rational"
      ]
     },
     "execution_count": 19,
     "metadata": {},
     "output_type": "execute_result"
    }
   ],
   "source": [
    "type(parse_expr(\"1/4\"))"
   ]
  },
  {
   "cell_type": "code",
   "execution_count": 18,
   "metadata": {},
   "outputs": [
    {
     "data": {
      "text/plain": [
       "sympy.core.numbers.Float"
      ]
     },
     "execution_count": 18,
     "metadata": {},
     "output_type": "execute_result"
    }
   ],
   "source": [
    "type(parse_expr(\"2.11\"))"
   ]
  },
  {
   "cell_type": "code",
   "execution_count": 38,
   "metadata": {},
   "outputs": [],
   "source": [
    "def detect(expr):\n",
    "    return {\n",
    "        'is_constant':   'Integer' in str(type(expr)) \n",
    "                      or 'Float' in str(type(expr))\n",
    "                      or 'Rational' in str(type(expr)),\n",
    "        'is_equality':   'Equality' in str(type(expr)),\n",
    "        'is_inequality': 'Inequality' in str(type(expr)) \n",
    "                      or 'Greater' in str(type(expr)) \n",
    "                      or 'Less' in str(type(expr)),\n",
    "        'is_matrix':     'Matrix' in str(type(expr)),\n",
    "        'dimension':     list(expr.shape) if 'Matrix' in str(type(expr)) else [0, 0]\n",
    "    }"
   ]
  },
  {
   "cell_type": "code",
   "execution_count": 39,
   "metadata": {},
   "outputs": [
    {
     "data": {
      "text/plain": [
       "{'is_constant': True,\n",
       " 'is_equality': False,\n",
       " 'is_inequality': False,\n",
       " 'is_matrix': False,\n",
       " 'dimension': [0, 0]}"
      ]
     },
     "execution_count": 39,
     "metadata": {},
     "output_type": "execute_result"
    }
   ],
   "source": [
    "detect(parse_expr('10!'))"
   ]
  },
  {
   "cell_type": "code",
   "execution_count": 40,
   "metadata": {},
   "outputs": [
    {
     "name": "stdout",
     "output_type": "stream",
     "text": [
      "Matrix([[1,2],[3,4]]) * t\n",
      "{'is_constant': False, 'is_equality': False, 'is_inequality': False, 'is_matrix': True, 'dimension': [2, 2]}\n",
      "\n",
      "10>a\n",
      "{'is_constant': False, 'is_equality': False, 'is_inequality': True, 'is_matrix': False, 'dimension': [0, 0]}\n",
      "\n",
      "10<a\n",
      "{'is_constant': False, 'is_equality': False, 'is_inequality': True, 'is_matrix': False, 'dimension': [0, 0]}\n",
      "\n",
      "2.11\n",
      "{'is_constant': True, 'is_equality': False, 'is_inequality': False, 'is_matrix': False, 'dimension': [0, 0]}\n",
      "\n",
      "Eq(x^2 + x, x)\n",
      "{'is_constant': False, 'is_equality': True, 'is_inequality': False, 'is_matrix': False, 'dimension': [0, 0]}\n",
      "\n"
     ]
    }
   ],
   "source": [
    "L = ['Matrix([[1,2],[3,4]]) * t', '10>a', '10<a', '2.11', 'Eq(x^2 + x, x)']\n",
    "for e in L:\n",
    "    print(e)\n",
    "    print(detect(parse_expr(e)))\n",
    "    print()"
   ]
  },
  {
   "cell_type": "code",
   "execution_count": 7,
   "metadata": {},
   "outputs": [
    {
     "data": {
      "text/plain": [
       "(Matrix([\n",
       " [1, 2],\n",
       " [3, 4]]), Matrix([\n",
       " [1],\n",
       " [2],\n",
       " [3],\n",
       " [4]]), Matrix([\n",
       " [1],\n",
       " [2],\n",
       " [3]]), Matrix([\n",
       " [1, 2],\n",
       " [3, 4],\n",
       " [5, 6]]))"
      ]
     },
     "execution_count": 7,
     "metadata": {},
     "output_type": "execute_result"
    }
   ],
   "source": [
    "M = Matrix([[1,2],[3,4]])\n",
    "N = Matrix([1,2,3,4])\n",
    "O = Matrix([[1],[2],[3]])\n",
    "P = Matrix([[1,2],[3,4],[5,6]])\n",
    "M, N, O, P"
   ]
  },
  {
   "cell_type": "code",
   "execution_count": 8,
   "metadata": {},
   "outputs": [
    {
     "data": {
      "text/plain": [
       "-2"
      ]
     },
     "execution_count": 8,
     "metadata": {},
     "output_type": "execute_result"
    }
   ],
   "source": [
    "M.det() # requires a square matrix"
   ]
  },
  {
   "cell_type": "code",
   "execution_count": 11,
   "metadata": {},
   "outputs": [
    {
     "data": {
      "text/plain": [
       "Matrix([\n",
       "[ -2,    1],\n",
       "[3/2, -1/2]])"
      ]
     },
     "execution_count": 11,
     "metadata": {},
     "output_type": "execute_result"
    }
   ],
   "source": [
    "M.inv() # requires a square matrix"
   ]
  },
  {
   "cell_type": "code",
   "execution_count": 15,
   "metadata": {},
   "outputs": [
    {
     "data": {
      "text/plain": [
       "((Matrix([\n",
       "  [  sqrt(10)/10, 3*sqrt(10)/10],\n",
       "  [3*sqrt(10)/10,  -sqrt(10)/10]]), Matrix([\n",
       "  [sqrt(10), 7*sqrt(10)/5],\n",
       "  [       0,   sqrt(10)/5]])), (Matrix([\n",
       "  [  sqrt(30)/30],\n",
       "  [  sqrt(30)/15],\n",
       "  [  sqrt(30)/10],\n",
       "  [2*sqrt(30)/15]]), Matrix([[sqrt(30)]])), (Matrix([\n",
       "  [  sqrt(14)/14],\n",
       "  [   sqrt(14)/7],\n",
       "  [3*sqrt(14)/14]]), Matrix([[sqrt(14)]])), (Matrix([\n",
       "  [  sqrt(35)/35, 13*sqrt(210)/210],\n",
       "  [3*sqrt(35)/35,  2*sqrt(210)/105],\n",
       "  [   sqrt(35)/7,    -sqrt(210)/42]]), Matrix([\n",
       "  [sqrt(35), 44*sqrt(35)/35],\n",
       "  [       0, 2*sqrt(210)/35]])))"
      ]
     },
     "execution_count": 15,
     "metadata": {},
     "output_type": "execute_result"
    }
   ],
   "source": [
    "M.QRdecomposition(), N.QRdecomposition(), O.QRdecomposition(), P.QRdecomposition()"
   ]
  },
  {
   "cell_type": "code",
   "execution_count": 16,
   "metadata": {},
   "outputs": [
    {
     "data": {
      "text/plain": [
       "Matrix([\n",
       "[1, 2],\n",
       "[3, 4]])"
      ]
     },
     "execution_count": 16,
     "metadata": {},
     "output_type": "execute_result"
    }
   ],
   "source": [
    "Q, R = M.QRdecomposition()\n",
    "Q * R"
   ]
  },
  {
   "cell_type": "code",
   "execution_count": 22,
   "metadata": {},
   "outputs": [
    {
     "data": {
      "text/plain": [
       "(Matrix([\n",
       " [  sqrt(10)/10, 3*sqrt(10)/10],\n",
       " [3*sqrt(10)/10,  -sqrt(10)/10]]), Matrix([\n",
       " [1, 3, 5],\n",
       " [2, 4, 6]]))"
      ]
     },
     "execution_count": 22,
     "metadata": {},
     "output_type": "execute_result"
    }
   ],
   "source": [
    "Q.T, P.T"
   ]
  },
  {
   "cell_type": "code",
   "execution_count": 62,
   "metadata": {},
   "outputs": [
    {
     "data": {
      "text/plain": [
       "{-1: 1, 1: 1}"
      ]
     },
     "execution_count": 62,
     "metadata": {},
     "output_type": "execute_result"
    }
   ],
   "source": [
    "Q.eigenvals() # requires square matrix"
   ]
  },
  {
   "cell_type": "code",
   "execution_count": 20,
   "metadata": {},
   "outputs": [
    {
     "data": {
      "text/plain": [
       "[(-1, 1, [Matrix([\n",
       "   [-3*sqrt(10)/(10*(sqrt(10)/10 + 1))],\n",
       "   [                                 1]])]), (1, 1, [Matrix([\n",
       "   [-3*sqrt(10)/(10*(-1 + sqrt(10)/10))],\n",
       "   [                                  1]])])]"
      ]
     },
     "execution_count": 20,
     "metadata": {},
     "output_type": "execute_result"
    }
   ],
   "source": [
    "Q.eigenvects() # requires square matrix"
   ]
  },
  {
   "cell_type": "code",
   "execution_count": 61,
   "metadata": {},
   "outputs": [
    {
     "data": {
      "text/plain": [
       "[-3*sqrt(10)/(10*(sqrt(10)/10 + 1)), -3*sqrt(10)/(10*(-1 + sqrt(10)/10))]"
      ]
     },
     "execution_count": 61,
     "metadata": {},
     "output_type": "execute_result"
    }
   ],
   "source": [
    "def splat(*s): return [a for a in s]\n",
    "[v[2][0][0] for v in Q.eigenvects()]"
   ]
  },
  {
   "cell_type": "code",
   "execution_count": null,
   "metadata": {},
   "outputs": [],
   "source": []
  }
 ],
 "metadata": {
  "kernelspec": {
   "display_name": "Python 3",
   "language": "python",
   "name": "python3"
  },
  "language_info": {
   "codemirror_mode": {
    "name": "ipython",
    "version": 3
   },
   "file_extension": ".py",
   "mimetype": "text/x-python",
   "name": "python",
   "nbconvert_exporter": "python",
   "pygments_lexer": "ipython3",
   "version": "3.6.5"
  }
 },
 "nbformat": 4,
 "nbformat_minor": 2
}
